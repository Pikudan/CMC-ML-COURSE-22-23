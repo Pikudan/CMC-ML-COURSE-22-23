{
 "cells": [
  {
   "cell_type": "markdown",
   "metadata": {},
   "source": [
    "# Для этого семинара нам потребуются все файлы из <a href=\"https://disk.yandex.ru/d/Ykx-npuqEF5Dng\">этой</a> папки. Загрузите их и положите в директорию, где лежит тетрадка."
   ]
  },
  {
   "cell_type": "markdown",
   "metadata": {},
   "source": [
    "# Когда все будет загружено, запустите следующую клетку. Если какой-то модуль не найдется, его нужно установить с помощью pip.\n",
    "\n",
    "## Если это будет модуль levitt_model, убедитесь, что папка levitt_model лежит в той же директории, что и этот ноутбук.\n",
    "\n",
    "## ...и если с расположением файлов все в порядке, а ошибка импорта остается, то напишите <a href=\"https://t.me/a_ignatov\">А.Д. Игнатову</a>, пожалуйста."
   ]
  },
  {
   "cell_type": "code",
   "execution_count": null,
   "metadata": {},
   "outputs": [],
   "source": [
    "import numpy as np\n",
    "from levitt_model.model import LevittModel\n",
    "from levitt_model.potential import Potential\n",
    "import Bio.PDB as pdb\n",
    "from Bio.PDB.QCPSuperimposer import QCPSuperimposer\n",
    "\n",
    "import matplotlib.pyplot as plt\n",
    "from scipy.optimize import minimize"
   ]
  }
 ],
 "metadata": {
  "kernelspec": {
   "display_name": "Python 3",
   "language": "python",
   "name": "python3"
  },
  "language_info": {
   "codemirror_mode": {
    "name": "ipython",
    "version": 3
   },
   "file_extension": ".py",
   "mimetype": "text/x-python",
   "name": "python",
   "nbconvert_exporter": "python",
   "pygments_lexer": "ipython3",
   "version": "3.8.2"
  }
 },
 "nbformat": 4,
 "nbformat_minor": 4
}
